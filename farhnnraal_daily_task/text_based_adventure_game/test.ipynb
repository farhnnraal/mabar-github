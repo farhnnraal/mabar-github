{
 "cells": [
  {
   "cell_type": "code",
   "execution_count": 6,
   "metadata": {},
   "outputs": [
    {
     "name": "stdout",
     "output_type": "stream",
     "text": [
      "north\n",
      "south\n",
      "cave\n"
     ]
    }
   ],
   "source": [
    "current_location = \"forest\"\n",
    "locations = {\n",
    "    \"forest\": {\n",
    "        \"north\": \"cave\",\n",
    "        \"south\": \"cliff\"\n",
    "    },\n",
    "    \"cave\": {\n",
    "        \"south\": \"forest\"\n",
    "    },\n",
    "    \"cliff\": {\n",
    "        \"north\": \"forest\"\n",
    "    }\n",
    "}\n",
    "\n",
    "for place in locations[current_location]:\n",
    "    print(place)\n",
    "\n",
    "print(locations[current_location][\"north\"])"
   ]
  },
  {
   "cell_type": "code",
   "execution_count": 12,
   "metadata": {},
   "outputs": [
    {
     "name": "stdout",
     "output_type": "stream",
     "text": [
      "I found chicken\n"
     ]
    }
   ],
   "source": [
    "search = \"Chicken\"\n",
    "text = [\"Chicken\", \"Cow\"]\n",
    "\n",
    "if search in text:\n",
    "    print(\"I found chicken\")"
   ]
  },
  {
   "cell_type": "code",
   "execution_count": 13,
   "metadata": {},
   "outputs": [
    {
     "name": "stdout",
     "output_type": "stream",
     "text": [
      "hurt\n"
     ]
    }
   ],
   "source": [
    "knife = \"hurt\"\n",
    "\n",
    "item = {\"knife\" : knife}\n",
    "\n",
    "if \"knife\" in item:\n",
    "    "
   ]
  }
 ],
 "metadata": {
  "kernelspec": {
   "display_name": "Python 3",
   "language": "python",
   "name": "python3"
  },
  "language_info": {
   "codemirror_mode": {
    "name": "ipython",
    "version": 3
   },
   "file_extension": ".py",
   "mimetype": "text/x-python",
   "name": "python",
   "nbconvert_exporter": "python",
   "pygments_lexer": "ipython3",
   "version": "3.12.5"
  }
 },
 "nbformat": 4,
 "nbformat_minor": 2
}
